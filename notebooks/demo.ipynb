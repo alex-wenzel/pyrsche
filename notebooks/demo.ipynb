{
 "cells": [
  {
   "cell_type": "markdown",
   "metadata": {},
   "source": [
    "# Generating summary statistics for `Porsche Auction Data.xlsx`\n",
    "\n",
    "Run each of these cells in order by pressing the `Run` button above or by click on a cell and typing `CTRL`+`ENTER`\n",
    "\n",
    "This first cell has notebook configuration options that make visualizations prettier and make it easier for me to develop code in separate script files to use in this notebook. Always run this cell first."
   ]
  },
  {
   "cell_type": "code",
   "execution_count": null,
   "metadata": {},
   "outputs": [],
   "source": [
    "%matplotlib inline\n",
    "%load_ext autoreload\n",
    "%autoreload 2"
   ]
  },
  {
   "cell_type": "markdown",
   "metadata": {},
   "source": [
    "# Import libraries\n",
    "\n",
    "These cells import Python libraries. \n",
    "\n",
    "`pandas` is a library for efficiently managing and querying 2-D and 1-D 'spreadsheet'-like data."
   ]
  },
  {
   "cell_type": "code",
   "execution_count": null,
   "metadata": {},
   "outputs": [],
   "source": [
    "import pandas as pd"
   ]
  },
  {
   "cell_type": "markdown",
   "metadata": {},
   "source": [
    "`numpy` is a Python library for general numerical analysis/computation. It also contains some basic data manipulation and statistical functions which we'll use here"
   ]
  },
  {
   "cell_type": "code",
   "execution_count": null,
   "metadata": {},
   "outputs": [],
   "source": [
    "import numpy as np"
   ]
  },
  {
   "cell_type": "markdown",
   "metadata": {},
   "source": [
    "`plotly` is a library for data visualization in Python. For now we will use the parts of the ecosystem for creating simple scatter plots, box plots, etc. However we can also experiment with [Dash](https://plot.ly/dash/) to create web-based interactive dashboards for working with the data in the future."
   ]
  },
  {
   "cell_type": "code",
   "execution_count": null,
   "metadata": {},
   "outputs": [],
   "source": [
    "import plotly.graph_objects as go"
   ]
  },
  {
   "cell_type": "markdown",
   "metadata": {},
   "source": [
    "The `import <lib> as <name>` structure is designed so that people can rename libraries they are importing in case they already have things in their code with the same name. In practice, it is often used for shortening the names of libraries so code is more compact. Renaming `pandas` to \"pd\" and `numpy` to \"np\" is a pretty common practice/tradition in the Python community."
   ]
  },
  {
   "cell_type": "markdown",
   "metadata": {},
   "source": [
    "# Load the data\n",
    "\n",
    "This cell loads our spreadsheet. It uses a function in the `pandas` library `read_excel()` to import data stored in an Excel file and represent it in a data structure (called a `DataFrame`) that can be interacted with using Python code. \n",
    "\n",
    "This object is referenced using the variable `data` that we are defining below. Typically we would want to use a more descriptive variable name, but we are only working with one spreadsheet in this notebook, and we will see that giving `DataFrame` objects relatively short names is a plus once we start working with them.\n",
    "\n",
    "A note on the file path below - inside a Jupyter server there is always one user by default named \"jovyan\", an anonymous [resident of the planet Jupyter](https://en.wikipedia.org/wiki/Jovian_(fiction)). By default all of your data lives in `/home/jovyan/`."
   ]
  },
  {
   "cell_type": "code",
   "execution_count": null,
   "metadata": {},
   "outputs": [],
   "source": [
    "data = pd.read_excel(\"/home/jovyan/test_data/Porsche Auction Data.xlsx\")"
   ]
  },
  {
   "cell_type": "markdown",
   "metadata": {},
   "source": [
    "# A quick preview\n",
    "\n",
    "It's a good idea to check that our data was loaded in and represented how we expect it to be. For this we can use a pandas function called `head()` that prints the first five rows by default."
   ]
  },
  {
   "cell_type": "code",
   "execution_count": null,
   "metadata": {},
   "outputs": [],
   "source": [
    "data.head()"
   ]
  },
  {
   "cell_type": "markdown",
   "metadata": {},
   "source": [
    "Looks good! `pandas` found the column names without any problem, and because we didn't tell it what to use as an *index*, it just gave each row an integer ID (bold numbers on the lefthand side). Normally we would do something like `data = pd.read_excel(\"data.xlsx\", index=\"ID/VIN\")`, but since our data is incomplete, this isn't a good idea. Addressing this issue will be one part of cleaning the data, especially if we want to query this data with respect to other datasets that might have the same vehicle IDs."
   ]
  },
  {
   "cell_type": "markdown",
   "metadata": {},
   "source": [
    "# What auction house sells the most expensive cars?\n",
    "\n",
    "I will use the next few code cells build a boxplot to answer this question."
   ]
  },
  {
   "cell_type": "markdown",
   "metadata": {},
   "source": [
    "## Get a list of all the auction houses in the data\n",
    "\n",
    "To filter the data by auction house, we need to know all the names. This line of code retrieves the `House` column and uses the `set()` function to remove repeated names and make a collection of each of the individual auction houses in the data. It then converts them to a `list` mostly because I like `list` objects and find `set` objects to be kind of annoying in most cases."
   ]
  },
  {
   "cell_type": "code",
   "execution_count": null,
   "metadata": {},
   "outputs": [],
   "source": [
    "houses = list(set(data[\"House\"]))\n",
    "print(houses)"
   ]
  },
  {
   "cell_type": "markdown",
   "metadata": {},
   "source": [
    "Look carefully and you can see another issue that we'll have to preprocess out at some point, an unfortunate addition of space characters has separated \"Russo and Steele\" into two different houses.\n",
    "\n",
    "We can use a function called `len()` to check how many elements are in our list."
   ]
  },
  {
   "cell_type": "code",
   "execution_count": null,
   "metadata": {},
   "outputs": [],
   "source": [
    "print(\"There are {} auction houses in our dataset... well actually {}\".format(len(houses), len(houses)-1))"
   ]
  },
  {
   "cell_type": "markdown",
   "metadata": {},
   "source": [
    "## Getting prices from each house\n",
    "\n",
    "Now that we have our `list` of auction houses, the most Python-ish thing to do next is *iterate* over them to perform some calculation. We'll use a programming contruct called a `for` loop common to many languages that essentially specifies a set of computations to perform on each object in a collection. Here's a simple example."
   ]
  },
  {
   "cell_type": "code",
   "execution_count": null,
   "metadata": {},
   "outputs": [],
   "source": [
    "for house in houses:\n",
    "    print(\"I am an auction house and my name is {}\".format(house))"
   ]
  },
  {
   "cell_type": "markdown",
   "metadata": {},
   "source": [
    "We'll use the same *control flow* to assemble all the pricing data for individual auction houses. First we will define a dictionary, or `dict`, another type of Python data structure designed for efficient storage of *key/value* pairs, to store lists of prices, each list keyed by an auction house name."
   ]
  },
  {
   "cell_type": "code",
   "execution_count": null,
   "metadata": {},
   "outputs": [],
   "source": [
    "house_prices = {}  ## this will look something like {\"RM\": [45000, 23000, 34500, ...], ...}\n",
    "\n",
    "for house in houses:\n",
    "    house_prices[house] = list(data[data[\"House\"]==house][\"Price\"])"
   ]
  },
  {
   "cell_type": "code",
   "execution_count": null,
   "metadata": {},
   "outputs": [],
   "source": [
    "for house in houses:\n",
    "    print(\"The first five prices for house {} are {}\".format(house, house_prices[house][:5]))"
   ]
  },
  {
   "cell_type": "markdown",
   "metadata": {},
   "source": [
    "We can see that there are some entries in the `Price` column that are definitely not numbers. This is another issue with the data that we will have to be remedied. For now, we can filter our `DataFrame` to only contain rows that have a numerical price."
   ]
  },
  {
   "cell_type": "code",
   "execution_count": null,
   "metadata": {},
   "outputs": [],
   "source": [
    "print(\"Number of rows before filtering: {}\".format(data.shape[0]))"
   ]
  },
  {
   "cell_type": "code",
   "execution_count": null,
   "metadata": {},
   "outputs": [],
   "source": [
    "data_numeric = data[data[\"Price\"].apply(lambda x: type(x) in [int, np.int64])]"
   ]
  },
  {
   "cell_type": "code",
   "execution_count": null,
   "metadata": {},
   "outputs": [],
   "source": [
    "print(\"Number of rows after filtering: {}\".format(data_numeric.shape[0]))"
   ]
  },
  {
   "cell_type": "markdown",
   "metadata": {},
   "source": [
    "We lost less than 100 rows, so this isn't the end of the world for now, we can continue. Let's run the same code again to produce our dictionary of houses and their associated prices. The only difference is that we will use `data_numeric` instead of `data`."
   ]
  },
  {
   "cell_type": "code",
   "execution_count": null,
   "metadata": {},
   "outputs": [],
   "source": [
    "house_prices = {}  ## this will look something like {\"RM\": [45000, 23000, 34500, ...], ...}\n",
    "\n",
    "for house in houses:\n",
    "    house_prices[house] = list(data_numeric[data_numeric[\"House\"]==house][\"Price\"])"
   ]
  },
  {
   "cell_type": "code",
   "execution_count": null,
   "metadata": {},
   "outputs": [],
   "source": [
    "for house in houses:\n",
    "    print(\"The first five prices for house {} are {}\".format(house, house_prices[house][:5]))"
   ]
  },
  {
   "cell_type": "markdown",
   "metadata": {},
   "source": [
    "## Visualization\n",
    "\n",
    "We've done 90% of the hard work - wrangling the data into a useful form. This code will use it to create a boxplot visualization of prices associated with each house."
   ]
  },
  {
   "cell_type": "code",
   "execution_count": null,
   "metadata": {},
   "outputs": [],
   "source": [
    "house_price_fig = go.Figure()\n",
    "\n",
    "for house in houses:\n",
    "    house_price_fig.add_trace(\n",
    "        go.Box(\n",
    "            y=house_prices[house],\n",
    "            name=house\n",
    "        )\n",
    "    )\n",
    "    \n",
    "house_price_fig.show()"
   ]
  },
  {
   "cell_type": "markdown",
   "metadata": {},
   "source": [
    "Looks like Gooding brings in the high spenders! This is an interactive plot, try mousing over the boxes and outlier points. Also, try grabbing a section of the plot as if you were cropping it to zoom in (zoom out by double clicking anywhere on the plot). This is a helpful feature since our plot here is dominated by Gooding and their multi-million dollar cars. You can also save the plot by mousing over the top right corner and clicking on the camera icon."
   ]
  },
  {
   "cell_type": "markdown",
   "metadata": {},
   "source": [
    "# Future work\n",
    "\n",
    "Whatever you want next! I can start by installing [BeautifulSoup](https://www.crummy.com/software/BeautifulSoup/bs4/doc/) in the Docker container and writing a parser for the auction sites."
   ]
  }
 ],
 "metadata": {
  "kernelspec": {
   "display_name": "Python 3",
   "language": "python",
   "name": "python3"
  },
  "language_info": {
   "codemirror_mode": {
    "name": "ipython",
    "version": 3
   },
   "file_extension": ".py",
   "mimetype": "text/x-python",
   "name": "python",
   "nbconvert_exporter": "python",
   "pygments_lexer": "ipython3",
   "version": "3.7.3"
  }
 },
 "nbformat": 4,
 "nbformat_minor": 2
}
